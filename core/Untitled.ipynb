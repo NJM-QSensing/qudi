{
 "cells": [
  {
   "cell_type": "code",
   "execution_count": 1,
   "metadata": {},
   "outputs": [],
   "source": [
    "import numpy as np\n",
    "import time"
   ]
  },
  {
   "cell_type": "code",
   "execution_count": 3,
   "metadata": {},
   "outputs": [
    {
     "name": "stdout",
     "output_type": "stream",
     "text": [
      "laser_channel: d_ch1\n",
      "sync_channel: d_ch4\n",
      "gate_channel: d_ch6\n",
      "microwave_channel: d_ch3\n",
      "microwave_frequency: 2870000000.0\n",
      "microwave_amplitude: 0.25\n",
      "rabi_period: 2e-07\n",
      "laser_length: 3e-06\n",
      "laser_delay: 5e-07\n",
      "wait_time: 1e-06\n",
      "analog_trigger_voltage: 0.0\n"
     ]
    }
   ],
   "source": [
    "pulsedmasterlogic.set_generation_parameters(sync_channel='d_ch4', microwave_amplitude=0.25, rabi_period=200e-9)\n",
    "pulsedmasterlogic.set_generation_parameters({'sync_channel': 'd_ch4', 'microwave_amplitude': 0.25, 'rabi_period': 200e-9})\n",
    "pulsedmasterlogic.set_generation_parameters({'sync_channel': 'd_ch4', 'microwave_amplitude': 0.25}, rabi_period=200e-9)\n",
    "\n",
    "# Read-only access to all available and currently set global generation parameters as dictionary via property\n",
    "for param, value in pulsedmasterlogic.generation_parameters.items():\n",
    "    print('{0}: {1}'.format(param, value))"
   ]
  },
  {
   "cell_type": "code",
   "execution_count": null,
   "metadata": {},
   "outputs": [],
   "source": []
  }
 ],
 "metadata": {
  "kernelspec": {
   "display_name": "Qudi",
   "language": "python",
   "name": "sj5-qudi"
  },
  "language_info": {
   "codemirror_mode": {
    "name": "ipython",
    "version": "3.6.5"
   },
   "file_extension": ".py",
   "mimetype": "text/x-python",
   "name": "python",
   "nbconvert_exporter": "python",
   "pygments_lexer": "ipython3",
   "version": "3.6.5"
  }
 },
 "nbformat": 4,
 "nbformat_minor": 2
}
