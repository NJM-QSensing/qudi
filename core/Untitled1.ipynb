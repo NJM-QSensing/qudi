{
 "cells": [
  {
   "cell_type": "code",
   "execution_count": 2,
   "metadata": {},
   "outputs": [],
   "source": [
    "from abc import ABCMeta, abstractmethod\n",
    "from qtpy import QtCore\n",
    "import numpy as np\n",
    "import copy\n",
    "\n",
    "from core.util.helpers import natural_sort\n",
    "\n",
    "from enum import Enum\n",
    "from collections import OrderedDict\n",
    "\n",
    "from logic.pulsed.pulse_extractor import PulseExtractor\n",
    "from logic.pulsed.pulse_analyzer import PulseAnalyzer"
   ]
  },
  {
   "cell_type": "code",
   "execution_count": 34,
   "metadata": {},
   "outputs": [],
   "source": [
    "class Measurement(metaclass=ABCMeta):\n",
    "    \"\"\" This class represents a generalized NV measurement.\n",
    "        To instantiate a new subclass, a user is expected to overload\n",
    "        all abstract methods given in this abstract class.\n",
    "    \"\"\"\n",
    "    # Measurement timer\n",
    "    __timer_interval = 5\n",
    "\n",
    "    # PulseExtractor settings\n",
    "    extraction_parameters = None\n",
    "\n",
    "    # PulseAnalysis settings\n",
    "    analysis_parameters = None\n",
    "\n",
    "    # Microwave Settings\n",
    "    # TODO: Guarantee this is dict of dict, where the number of sources is \n",
    "    microwave_parameters = OrderedDict()\n",
    "\n",
    "    # Counter Settings\n",
    "    counter_parameters = OrderedDict()\n",
    "\n",
    "    # Pulse Generator Settings\n",
    "    pulser_parameters = OrderedDict()\n",
    "\n",
    "    # General Data Type settings\n",
    "    _data_units = None\n",
    "    _controlled_variable = None\n",
    "    _number_of_curves = None\n",
    "\n",
    "    def __init__(self, name, sequencegeneratorlogic, measurementlogic, fitlogic, dimension):\n",
    "        \"\"\" Initialize class\n",
    "        \"\"\"\n",
    "        self.name = name\n",
    "        self.__sequencegeneratorlogic = sequencegeneratorlogic\n",
    "        self.__measurementlogic = measurementlogic\n",
    "        self.__fitlogic = fitlogic\n",
    "\n",
    "        self._pulseextractor = PulseExtractor(self.__measurementlogic)\n",
    "        self._pulseanalyzer = PulseAnalyzer(self.__measurementlogic)\n",
    "\n",
    "        self.fit_result = None\n",
    "\n",
    "        # Measurement data\n",
    "        self.signal_data = np.zeros([], dtype=float)\n",
    "        self.signal_alt_data = np.zeros([], dtype=float)\n",
    "        self.measurement_error = np.zeros([], dtype=float)\n",
    "        self.laser_data = np.zeros([], dtype='int64')\n",
    "\n",
    "        # Paused measurement flag\n",
    "        self.__is_paused = False\n",
    "        self._time_of_pause = None\n",
    "        self._elapsed_pause = 0\n",
    "\n",
    "        # For Fitting\n",
    "        # Note: the fit container is made in either Confocal of Widefield Subclasses\n",
    "        self.fit_container = self.__fitlogic.make_fit_container('{}_fc'.format(self.name), dimension)\n",
    "        self.fit_container.set_units(self._data_units)\n",
    "        \n",
    "        self.fit_result = None\n",
    "        self.alt_fit_result = None\n",
    "        self.signal_fit_data = np.zeros([], dtype=float)  # The x,y data of the fit result\n",
    "        self.signal_fit_alt_data = np.zeros([], dtype=float)\n",
    "\n",
    "    def __repr__(self):\n",
    "        repr_str = 'Measurement(name=\\'{0}\\')'.format(self.name)\n",
    "        return repr_str\n",
    "\n",
    "    def __str__(self):\n",
    "        repr_str = 'Measurement(name=\\'{0}\\')'.format(self.name)\n",
    "        return repr_str\n",
    "\n",
    "    def __eq__(self,other):\n",
    "        \"\"\" Returns bool depending on whether this class\n",
    "            is equal to another class instance\n",
    "        \"\"\"\n",
    "        if not isinstance(other, Measurement):\n",
    "            return False\n",
    "        if self is other:\n",
    "            return True\n",
    "        \n",
    "        return True\n",
    "    \n",
    "    def get_counter_settings(self, settings_dict=None, **kwargs):\n",
    "        \"\"\"\n",
    "        Either accepts a settings dictionary as positional argument or keyword arguments.\n",
    "        If both are present, both are being used by updating the settings_dict with kwargs.\n",
    "        The keyword arguments take precedence over the items in settings_dict if there are\n",
    "        conflicting names.\n",
    "\n",
    "        @param settings_dict:\n",
    "        @param kwargs:\n",
    "        @return: dict of arguments for counter.configure(**kwargs)\n",
    "        \"\"\"\n",
    "        if not isinstance(settings_dict, dict):\n",
    "            settings_dict = kwargs\n",
    "        else:\n",
    "            settings_dict.update(kwargs)\n",
    "            \n",
    "        \n",
    "\n",
    "        return \n",
    "\n",
    "    ##########################################################################\n",
    "    #  Sequence Generator Logic Properties\n",
    "    #\n",
    "    ##########################################################################\n",
    "\n",
    "    @property\n",
    "    def analyze_block_ensemble(self):\n",
    "        return self.__sequencegeneratorlogic.analyze_block_ensemble\n",
    "\n",
    "    @property\n",
    "    def analyze_sequence(self):\n",
    "        return self.__sequencegeneratorlogic.analyze_sequence\n",
    "\n",
    "    @property\n",
    "    def pulse_generator_settings(self):\n",
    "        return self.__sequencegeneratorlogic.pulse_generator_settings\n",
    "\n",
    "    @property\n",
    "    def save_block(self):\n",
    "        return self.__sequencegeneratorlogic.save_block\n",
    "\n",
    "    @property\n",
    "    def save_ensemble(self):\n",
    "        return self.__sequencegeneratorlogic.save_ensemble\n",
    "\n",
    "    @property\n",
    "    def save_sequence(self):\n",
    "        return self.__sequencegeneratorlogic.save_sequence\n",
    "\n",
    "    @property\n",
    "    def generation_parameters(self):\n",
    "        return self.__sequencegeneratorlogic.generation_parameters\n",
    "\n",
    "    @property\n",
    "    def pulse_generator_constraints(self):\n",
    "        return self.__sequencegeneratorlogic.pulse_generator_constraints\n",
    "\n",
    "    @property\n",
    "    def channel_set(self):\n",
    "        channels = self.pulse_generator_settings.get('activation_config')\n",
    "        if channels is None:\n",
    "            channels = ('', set())\n",
    "        return channels[1]\n",
    "\n",
    "    @property\n",
    "    def analog_channels(self):\n",
    "        return {chnl for chnl in self.channel_set if chnl.startswith('a')}\n",
    "\n",
    "    @property\n",
    "    def digital_channels(self):\n",
    "        return {chnl for chnl in self.channel_set if chnl.startswith('d')}\n",
    "\n",
    "    @property\n",
    "    def laser_channel(self):\n",
    "        return self.generation_parameters.get('laser_channel')\n",
    "\n",
    "    @property\n",
    "    def sync_channel(self):\n",
    "        channel = self.generation_parameters.get('sync_channel')\n",
    "        return None if channel == '' else channel\n",
    "\n",
    "    @property\n",
    "    def gate_channel(self):\n",
    "        channel = self.generation_parameters.get('gate_channel')\n",
    "        return None if channel == '' else channel\n",
    "\n",
    "    @property\n",
    "    def analog_trigger_voltage(self):\n",
    "        return self.generation_parameters.get('analog_trigger_voltage')\n",
    "\n",
    "    @property\n",
    "    def laser_delay(self):\n",
    "        return self.generation_parameters.get('laser_delay')\n",
    "\n",
    "    @property\n",
    "    def microwave_channel(self):\n",
    "        channel = self.generation_parameters.get('microwave_channel')\n",
    "        return None if channel == '' else channel\n",
    "\n",
    "    @property\n",
    "    def microwave_frequency(self):\n",
    "        return self.generation_parameters.get('microwave_frequency')\n",
    "\n",
    "    @property\n",
    "    def microwave_amplitude(self):\n",
    "        return self.generation_parameters.get('microwave_amplitude')\n",
    "\n",
    "    @property\n",
    "    def laser_length(self):\n",
    "        return self.generation_parameters.get('laser_length')\n",
    "\n",
    "    @property\n",
    "    def wait_time(self):\n",
    "        return self.generation_parameters.get('wait_time')\n",
    "\n",
    "    @property\n",
    "    def rabi_period(self):\n",
    "        return self.generation_parameters.get('rabi_period')\n",
    "\n",
    "    @property\n",
    "    def sample_rate(self):\n",
    "        return self.pulse_generator_settings.get('sample_rate')\n",
    "\n",
    "\n",
    "    ##########################################################################\n",
    "    #  Measurement Logic Properties\n",
    "    #\n",
    "    ##########################################################################\n",
    "\n",
    "    @property\n",
    "    def is_gated(self):\n",
    "        return self.__pulsedmeasurementlogic.counter_settings.get('is_gated')\n",
    "\n",
    "    @property\n",
    "    def measurement_settings(self):\n",
    "        return self.__pulsedmeasurementlogic.measurement_settings\n",
    "\n",
    "    @property\n",
    "    def sampling_information(self):\n",
    "        return self.__pulsedmeasurementlogic.sampling_information\n",
    "\n",
    "    @property\n",
    "    def counter_settings(self):\n",
    "        return self.__pulsedmeasurementlogic.counter_settings\n",
    "\n",
    "    @property\n",
    "    def log(self):\n",
    "        return self.__pulsedmeasurementlogic.log\n",
    "\n",
    "class Confocal(Measurement):\n",
    "    \"\"\" Measurement taking one set of data at once, as in a confocal NV microscope.\n",
    "        This type of measurment cant be used for confocal microscopy experiments, \n",
    "        and scanning probe experiments.\n",
    "    \"\"\"\n",
    "\n",
    "    def __init__(self, name, sequencegeneratorlogic, measurementlogic, fitlogic):\n",
    "        \"\"\" Initialize class\n",
    "        \"\"\"\n",
    "        super().__init__(name, sequencegeneratorlogic, measurementlogic, fitlogic, '1d')\n",
    "        \n",
    "class Widefield(Measurement):\n",
    "    \"\"\" Measurement taking one many sets of data at once, as in a wide NV microscope.\n",
    "        The methods in this method explicitely expect many pixels worth of data.\n",
    "    \"\"\"\n",
    "\n",
    "    def __init__(self, name, sequencegeneratorlogic, measurementlogic, fitlogic):\n",
    "        \"\"\" Initialize class\n",
    "        \"\"\"\n",
    "        super().__init__(name, sequencegeneratorlogic, measurementlogic, fitlogic, '2d')\n"
   ]
  },
  {
   "cell_type": "code",
   "execution_count": 35,
   "metadata": {},
   "outputs": [],
   "source": [
    "example_measurement = Confocal(\"example\",sequencegeneratorlogic, pulsedmeasurementlogic, fitlogic)"
   ]
  },
  {
   "cell_type": "code",
   "execution_count": 36,
   "metadata": {},
   "outputs": [
    {
     "data": {
      "text/plain": [
       "Measurement(name='example')"
      ]
     },
     "execution_count": 36,
     "metadata": {},
     "output_type": "execute_result"
    }
   ],
   "source": [
    "example_measurement"
   ]
  },
  {
   "cell_type": "code",
   "execution_count": 33,
   "metadata": {},
   "outputs": [
    {
     "name": "stderr",
     "output_type": "stream",
     "text": [
      "Traceback (most recent call last):\n",
      "  File \"C:\\Users\\DuPC\\Documents\\GitHub\\qudi\\logic\\jupyterkernel\\qzmqkernel.py\", line 679, in run_code\n",
      "    exec(code_obj, self.user_global_ns, self.user_ns)\n",
      "  File \"<ipython-input-33-5acc251d0c4c>\", line 1, in <module>\n",
      "    example_measurement.__fitlogic\n",
      "AttributeError: 'Confocal' object has no attribute '__fitlogic'\n"
     ]
    }
   ],
   "source": [
    "example_measurement."
   ]
  },
  {
   "cell_type": "code",
   "execution_count": 18,
   "metadata": {},
   "outputs": [
    {
     "name": "stderr",
     "output_type": "stream",
     "text": [
      "Traceback (most recent call last):\n",
      "  File \"C:\\Users\\DuPC\\Documents\\GitHub\\qudi\\logic\\jupyterkernel\\qzmqkernel.py\", line 679, in run_code\n",
      "    exec(code_obj, self.user_global_ns, self.user_ns)\n",
      "  File \"<ipython-input-18-a6d29ebbf998>\", line 1, in <module>\n",
      "    example_measurement.super()\n",
      "AttributeError: 'Confocal' object has no attribute 'super'\n"
     ]
    }
   ],
   "source": [
    "example_measurement.super()"
   ]
  },
  {
   "cell_type": "code",
   "execution_count": 19,
   "metadata": {},
   "outputs": [],
   "source": [
    "class Rectangle:\n",
    "    def __init__(self, length, width):\n",
    "        self.length = length\n",
    "        self.width = width\n",
    "\n",
    "    def area(self):\n",
    "        return self.length * self.width\n",
    "\n",
    "    def perimeter(self):\n",
    "        return 2 * self.length + 2 * self.width\n",
    "\n",
    "# Here we declare that the Square class inherits from the Rectangle class\n",
    "class Square(Rectangle):\n",
    "    def __init__(self, length):\n",
    "        super().__init__(length, length)"
   ]
  },
  {
   "cell_type": "code",
   "execution_count": 20,
   "metadata": {},
   "outputs": [],
   "source": [
    "blah = Square(3)"
   ]
  },
  {
   "cell_type": "code",
   "execution_count": 21,
   "metadata": {},
   "outputs": [
    {
     "data": {
      "text/plain": [
       "<logic.jupyterkernel.qzmqkernel.Square object at 0x0000029898E80F60>"
      ]
     },
     "execution_count": 21,
     "metadata": {},
     "output_type": "execute_result"
    }
   ],
   "source": [
    "blah"
   ]
  },
  {
   "cell_type": "code",
   "execution_count": 22,
   "metadata": {},
   "outputs": [
    {
     "data": {
      "text/plain": [
       "9"
      ]
     },
     "execution_count": 22,
     "metadata": {},
     "output_type": "execute_result"
    }
   ],
   "source": [
    "blah.area()"
   ]
  },
  {
   "cell_type": "code",
   "execution_count": 23,
   "metadata": {},
   "outputs": [
    {
     "data": {
      "text/plain": [
       "3"
      ]
     },
     "execution_count": 23,
     "metadata": {},
     "output_type": "execute_result"
    }
   ],
   "source": [
    "blah.length"
   ]
  },
  {
   "cell_type": "code",
   "execution_count": 24,
   "metadata": {},
   "outputs": [
    {
     "data": {
      "text/plain": [
       "3"
      ]
     },
     "execution_count": 24,
     "metadata": {},
     "output_type": "execute_result"
    }
   ],
   "source": [
    "blah.width"
   ]
  },
  {
   "cell_type": "code",
   "execution_count": null,
   "metadata": {},
   "outputs": [],
   "source": []
  }
 ],
 "metadata": {
  "kernelspec": {
   "display_name": "Qudi",
   "language": "python",
   "name": "sj5-qudi"
  },
  "language_info": {
   "codemirror_mode": {
    "name": "ipython",
    "version": "3.6.5"
   },
   "file_extension": ".py",
   "mimetype": "text/x-python",
   "name": "python",
   "nbconvert_exporter": "python",
   "pygments_lexer": "ipython3",
   "version": "3.6.5"
  }
 },
 "nbformat": 4,
 "nbformat_minor": 2
}
